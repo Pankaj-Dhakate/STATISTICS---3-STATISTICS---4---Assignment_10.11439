{
 "cells": [
  {
   "cell_type": "markdown",
   "metadata": {},
   "source": [
    "### Task 1:"
   ]
  },
  {
   "cell_type": "markdown",
   "metadata": {},
   "source": [
    "Read the following data set: https://archive.ics.uci.edu/ml/machine-learning-databases/adult/ "
   ]
  },
  {
   "cell_type": "code",
   "execution_count": 10,
   "metadata": {},
   "outputs": [],
   "source": [
    "import pandas as pd\n",
    "from pandasql import sqldf\n",
    "import sqlite3\n",
    "from sqlalchemy import create_engine\n",
    "import functools as func"
   ]
  },
  {
   "cell_type": "code",
   "execution_count": 11,
   "metadata": {},
   "outputs": [],
   "source": [
    "dfAdult = pd.read_csv('https://archive.ics.uci.edu/ml/machine-learning-databases/adult/adult.data', header=None)"
   ]
  },
  {
   "cell_type": "code",
   "execution_count": 12,
   "metadata": {},
   "outputs": [
    {
     "data": {
      "text/html": [
       "<div>\n",
       "<style scoped>\n",
       "    .dataframe tbody tr th:only-of-type {\n",
       "        vertical-align: middle;\n",
       "    }\n",
       "\n",
       "    .dataframe tbody tr th {\n",
       "        vertical-align: top;\n",
       "    }\n",
       "\n",
       "    .dataframe thead th {\n",
       "        text-align: right;\n",
       "    }\n",
       "</style>\n",
       "<table border=\"1\" class=\"dataframe\">\n",
       "  <thead>\n",
       "    <tr style=\"text-align: right;\">\n",
       "      <th></th>\n",
       "      <th>0</th>\n",
       "      <th>1</th>\n",
       "      <th>2</th>\n",
       "      <th>3</th>\n",
       "      <th>4</th>\n",
       "      <th>5</th>\n",
       "      <th>6</th>\n",
       "      <th>7</th>\n",
       "      <th>8</th>\n",
       "      <th>9</th>\n",
       "      <th>10</th>\n",
       "      <th>11</th>\n",
       "      <th>12</th>\n",
       "      <th>13</th>\n",
       "      <th>14</th>\n",
       "    </tr>\n",
       "  </thead>\n",
       "  <tbody>\n",
       "    <tr>\n",
       "      <th>0</th>\n",
       "      <td>39</td>\n",
       "      <td>State-gov</td>\n",
       "      <td>77516</td>\n",
       "      <td>Bachelors</td>\n",
       "      <td>13</td>\n",
       "      <td>Never-married</td>\n",
       "      <td>Adm-clerical</td>\n",
       "      <td>Not-in-family</td>\n",
       "      <td>White</td>\n",
       "      <td>Male</td>\n",
       "      <td>2174</td>\n",
       "      <td>0</td>\n",
       "      <td>40</td>\n",
       "      <td>United-States</td>\n",
       "      <td>&lt;=50K</td>\n",
       "    </tr>\n",
       "    <tr>\n",
       "      <th>1</th>\n",
       "      <td>50</td>\n",
       "      <td>Self-emp-not-inc</td>\n",
       "      <td>83311</td>\n",
       "      <td>Bachelors</td>\n",
       "      <td>13</td>\n",
       "      <td>Married-civ-spouse</td>\n",
       "      <td>Exec-managerial</td>\n",
       "      <td>Husband</td>\n",
       "      <td>White</td>\n",
       "      <td>Male</td>\n",
       "      <td>0</td>\n",
       "      <td>0</td>\n",
       "      <td>13</td>\n",
       "      <td>United-States</td>\n",
       "      <td>&lt;=50K</td>\n",
       "    </tr>\n",
       "    <tr>\n",
       "      <th>2</th>\n",
       "      <td>38</td>\n",
       "      <td>Private</td>\n",
       "      <td>215646</td>\n",
       "      <td>HS-grad</td>\n",
       "      <td>9</td>\n",
       "      <td>Divorced</td>\n",
       "      <td>Handlers-cleaners</td>\n",
       "      <td>Not-in-family</td>\n",
       "      <td>White</td>\n",
       "      <td>Male</td>\n",
       "      <td>0</td>\n",
       "      <td>0</td>\n",
       "      <td>40</td>\n",
       "      <td>United-States</td>\n",
       "      <td>&lt;=50K</td>\n",
       "    </tr>\n",
       "    <tr>\n",
       "      <th>3</th>\n",
       "      <td>53</td>\n",
       "      <td>Private</td>\n",
       "      <td>234721</td>\n",
       "      <td>11th</td>\n",
       "      <td>7</td>\n",
       "      <td>Married-civ-spouse</td>\n",
       "      <td>Handlers-cleaners</td>\n",
       "      <td>Husband</td>\n",
       "      <td>Black</td>\n",
       "      <td>Male</td>\n",
       "      <td>0</td>\n",
       "      <td>0</td>\n",
       "      <td>40</td>\n",
       "      <td>United-States</td>\n",
       "      <td>&lt;=50K</td>\n",
       "    </tr>\n",
       "    <tr>\n",
       "      <th>4</th>\n",
       "      <td>28</td>\n",
       "      <td>Private</td>\n",
       "      <td>338409</td>\n",
       "      <td>Bachelors</td>\n",
       "      <td>13</td>\n",
       "      <td>Married-civ-spouse</td>\n",
       "      <td>Prof-specialty</td>\n",
       "      <td>Wife</td>\n",
       "      <td>Black</td>\n",
       "      <td>Female</td>\n",
       "      <td>0</td>\n",
       "      <td>0</td>\n",
       "      <td>40</td>\n",
       "      <td>Cuba</td>\n",
       "      <td>&lt;=50K</td>\n",
       "    </tr>\n",
       "  </tbody>\n",
       "</table>\n",
       "</div>"
      ],
      "text/plain": [
       "   0                  1       2           3   4                    5   \\\n",
       "0  39          State-gov   77516   Bachelors  13        Never-married   \n",
       "1  50   Self-emp-not-inc   83311   Bachelors  13   Married-civ-spouse   \n",
       "2  38            Private  215646     HS-grad   9             Divorced   \n",
       "3  53            Private  234721        11th   7   Married-civ-spouse   \n",
       "4  28            Private  338409   Bachelors  13   Married-civ-spouse   \n",
       "\n",
       "                   6               7       8        9     10  11  12  \\\n",
       "0        Adm-clerical   Not-in-family   White     Male  2174   0  40   \n",
       "1     Exec-managerial         Husband   White     Male     0   0  13   \n",
       "2   Handlers-cleaners   Not-in-family   White     Male     0   0  40   \n",
       "3   Handlers-cleaners         Husband   Black     Male     0   0  40   \n",
       "4      Prof-specialty            Wife   Black   Female     0   0  40   \n",
       "\n",
       "               13      14  \n",
       "0   United-States   <=50K  \n",
       "1   United-States   <=50K  \n",
       "2   United-States   <=50K  \n",
       "3   United-States   <=50K  \n",
       "4            Cuba   <=50K  "
      ]
     },
     "execution_count": 12,
     "metadata": {},
     "output_type": "execute_result"
    }
   ],
   "source": [
    "dfAdult.head()"
   ]
  },
  {
   "cell_type": "code",
   "execution_count": 13,
   "metadata": {},
   "outputs": [
    {
     "data": {
      "text/plain": [
       "Index(['| This data was extracted from the census bureau database found at',\n",
       "       'Unnamed: 1', 'Unnamed: 2', 'Unnamed: 3', 'Unnamed: 4', 'Unnamed: 5',\n",
       "       'Unnamed: 6'],\n",
       "      dtype='object')"
      ]
     },
     "execution_count": 13,
     "metadata": {},
     "output_type": "execute_result"
    }
   ],
   "source": [
    "dfColumnNames = pd.read_fwf('https://archive.ics.uci.edu/ml/machine-learning-databases/adult/adult.names', sep=\"\\n\")\n",
    "dfColumnNames.columns"
   ]
  },
  {
   "cell_type": "code",
   "execution_count": 14,
   "metadata": {},
   "outputs": [],
   "source": [
    "dfColumnNames['RequiredData'] = dfColumnNames['| This data was extracted from the census bureau database found at']"
   ]
  },
  {
   "cell_type": "code",
   "execution_count": 15,
   "metadata": {},
   "outputs": [],
   "source": [
    "dfColumnNames = dfColumnNames.drop(columns={'| This data was extracted from the census bureau database found at',\n",
    "       'Unnamed: 1', 'Unnamed: 2', 'Unnamed: 3', 'Unnamed: 4', 'Unnamed: 5',\n",
    "       'Unnamed: 6'})\n",
    "columnNames = dfColumnNames.iloc[95:,]['RequiredData'].str.split(\":\")\n",
    "columnNames = [i[0] for i in columnNames]"
   ]
  },
  {
   "cell_type": "code",
   "execution_count": 16,
   "metadata": {},
   "outputs": [],
   "source": [
    "#Last column name is missing so add it manually\n",
    "columnNames.append('salary')"
   ]
  },
  {
   "cell_type": "code",
   "execution_count": 17,
   "metadata": {},
   "outputs": [
    {
     "data": {
      "text/plain": [
       "'age,workclass,fnlwgt,education,education-num,marital-status,occupation,relationship,race,sex,capital-gain,capital-loss,hours-per-week,native-country,salary'"
      ]
     },
     "execution_count": 17,
     "metadata": {},
     "output_type": "execute_result"
    }
   ],
   "source": [
    "columnNames = func.reduce(lambda x,y : x + ',' + y, columnNames)\n",
    "columnNames"
   ]
  },
  {
   "cell_type": "code",
   "execution_count": 18,
   "metadata": {},
   "outputs": [],
   "source": [
    "columnNames = list(columnNames.replace('-', '_').split(','))"
   ]
  },
  {
   "cell_type": "code",
   "execution_count": 19,
   "metadata": {},
   "outputs": [],
   "source": [
    "dfAdult.columns = columnNames"
   ]
  },
  {
   "cell_type": "code",
   "execution_count": 20,
   "metadata": {},
   "outputs": [
    {
     "data": {
      "text/html": [
       "<div>\n",
       "<style scoped>\n",
       "    .dataframe tbody tr th:only-of-type {\n",
       "        vertical-align: middle;\n",
       "    }\n",
       "\n",
       "    .dataframe tbody tr th {\n",
       "        vertical-align: top;\n",
       "    }\n",
       "\n",
       "    .dataframe thead th {\n",
       "        text-align: right;\n",
       "    }\n",
       "</style>\n",
       "<table border=\"1\" class=\"dataframe\">\n",
       "  <thead>\n",
       "    <tr style=\"text-align: right;\">\n",
       "      <th></th>\n",
       "      <th>age</th>\n",
       "      <th>workclass</th>\n",
       "      <th>fnlwgt</th>\n",
       "      <th>education</th>\n",
       "      <th>education_num</th>\n",
       "      <th>marital_status</th>\n",
       "      <th>occupation</th>\n",
       "      <th>relationship</th>\n",
       "      <th>race</th>\n",
       "      <th>sex</th>\n",
       "      <th>capital_gain</th>\n",
       "      <th>capital_loss</th>\n",
       "      <th>hours_per_week</th>\n",
       "      <th>native_country</th>\n",
       "      <th>salary</th>\n",
       "    </tr>\n",
       "  </thead>\n",
       "  <tbody>\n",
       "    <tr>\n",
       "      <th>0</th>\n",
       "      <td>39</td>\n",
       "      <td>State-gov</td>\n",
       "      <td>77516</td>\n",
       "      <td>Bachelors</td>\n",
       "      <td>13</td>\n",
       "      <td>Never-married</td>\n",
       "      <td>Adm-clerical</td>\n",
       "      <td>Not-in-family</td>\n",
       "      <td>White</td>\n",
       "      <td>Male</td>\n",
       "      <td>2174</td>\n",
       "      <td>0</td>\n",
       "      <td>40</td>\n",
       "      <td>United-States</td>\n",
       "      <td>&lt;=50K</td>\n",
       "    </tr>\n",
       "    <tr>\n",
       "      <th>1</th>\n",
       "      <td>50</td>\n",
       "      <td>Self-emp-not-inc</td>\n",
       "      <td>83311</td>\n",
       "      <td>Bachelors</td>\n",
       "      <td>13</td>\n",
       "      <td>Married-civ-spouse</td>\n",
       "      <td>Exec-managerial</td>\n",
       "      <td>Husband</td>\n",
       "      <td>White</td>\n",
       "      <td>Male</td>\n",
       "      <td>0</td>\n",
       "      <td>0</td>\n",
       "      <td>13</td>\n",
       "      <td>United-States</td>\n",
       "      <td>&lt;=50K</td>\n",
       "    </tr>\n",
       "    <tr>\n",
       "      <th>2</th>\n",
       "      <td>38</td>\n",
       "      <td>Private</td>\n",
       "      <td>215646</td>\n",
       "      <td>HS-grad</td>\n",
       "      <td>9</td>\n",
       "      <td>Divorced</td>\n",
       "      <td>Handlers-cleaners</td>\n",
       "      <td>Not-in-family</td>\n",
       "      <td>White</td>\n",
       "      <td>Male</td>\n",
       "      <td>0</td>\n",
       "      <td>0</td>\n",
       "      <td>40</td>\n",
       "      <td>United-States</td>\n",
       "      <td>&lt;=50K</td>\n",
       "    </tr>\n",
       "    <tr>\n",
       "      <th>3</th>\n",
       "      <td>53</td>\n",
       "      <td>Private</td>\n",
       "      <td>234721</td>\n",
       "      <td>11th</td>\n",
       "      <td>7</td>\n",
       "      <td>Married-civ-spouse</td>\n",
       "      <td>Handlers-cleaners</td>\n",
       "      <td>Husband</td>\n",
       "      <td>Black</td>\n",
       "      <td>Male</td>\n",
       "      <td>0</td>\n",
       "      <td>0</td>\n",
       "      <td>40</td>\n",
       "      <td>United-States</td>\n",
       "      <td>&lt;=50K</td>\n",
       "    </tr>\n",
       "    <tr>\n",
       "      <th>4</th>\n",
       "      <td>28</td>\n",
       "      <td>Private</td>\n",
       "      <td>338409</td>\n",
       "      <td>Bachelors</td>\n",
       "      <td>13</td>\n",
       "      <td>Married-civ-spouse</td>\n",
       "      <td>Prof-specialty</td>\n",
       "      <td>Wife</td>\n",
       "      <td>Black</td>\n",
       "      <td>Female</td>\n",
       "      <td>0</td>\n",
       "      <td>0</td>\n",
       "      <td>40</td>\n",
       "      <td>Cuba</td>\n",
       "      <td>&lt;=50K</td>\n",
       "    </tr>\n",
       "  </tbody>\n",
       "</table>\n",
       "</div>"
      ],
      "text/plain": [
       "   age          workclass  fnlwgt   education  education_num  \\\n",
       "0   39          State-gov   77516   Bachelors             13   \n",
       "1   50   Self-emp-not-inc   83311   Bachelors             13   \n",
       "2   38            Private  215646     HS-grad              9   \n",
       "3   53            Private  234721        11th              7   \n",
       "4   28            Private  338409   Bachelors             13   \n",
       "\n",
       "        marital_status          occupation    relationship    race      sex  \\\n",
       "0        Never-married        Adm-clerical   Not-in-family   White     Male   \n",
       "1   Married-civ-spouse     Exec-managerial         Husband   White     Male   \n",
       "2             Divorced   Handlers-cleaners   Not-in-family   White     Male   \n",
       "3   Married-civ-spouse   Handlers-cleaners         Husband   Black     Male   \n",
       "4   Married-civ-spouse      Prof-specialty            Wife   Black   Female   \n",
       "\n",
       "   capital_gain  capital_loss  hours_per_week  native_country  salary  \n",
       "0          2174             0              40   United-States   <=50K  \n",
       "1             0             0              13   United-States   <=50K  \n",
       "2             0             0              40   United-States   <=50K  \n",
       "3             0             0              40   United-States   <=50K  \n",
       "4             0             0              40            Cuba   <=50K  "
      ]
     },
     "execution_count": 20,
     "metadata": {},
     "output_type": "execute_result"
    }
   ],
   "source": [
    "dfAdult.head()"
   ]
  },
  {
   "cell_type": "code",
   "execution_count": 21,
   "metadata": {},
   "outputs": [],
   "source": [
    "#engine = create_engine('sqlite:///testDB', echo=True)\n",
    "conn = sqlite3.connect('testDB')\n",
    "cursor = conn.cursor()"
   ]
  },
  {
   "cell_type": "code",
   "execution_count": 22,
   "metadata": {},
   "outputs": [
    {
     "data": {
      "text/plain": [
       "'age %s ,workclass %s ,fnlwgt %s ,education %s ,education_num %s ,marital_status %s ,occupation %s ,relationship %s ,race %s ,sex %s ,capital_gain %s ,capital_loss %s ,hours_per_week %s ,native_country %s ,salary %s'"
      ]
     },
     "execution_count": 22,
     "metadata": {},
     "output_type": "execute_result"
    }
   ],
   "source": [
    "\n",
    "import functools as func\n",
    "columnNames = func.reduce(lambda x,y : x + ' %s ,' + y, dfAdult.columns.values) + ' %s'\n",
    "columnNames"
   ]
  },
  {
   "cell_type": "code",
   "execution_count": 23,
   "metadata": {},
   "outputs": [
    {
     "data": {
      "text/plain": [
       "'age INTEGER ,workclass TEXT ,fnlwgt INTEGER ,education TEXT ,education_num INTEGER ,marital_status TEXT ,occupation TEXT ,relationship TEXT ,race TEXT ,sex TEXT ,capital_gain INTEGER ,capital_loss INTEGER ,hours_per_week INTEGER ,native_country TEXT ,salary TEXT'"
      ]
     },
     "execution_count": 23,
     "metadata": {},
     "output_type": "execute_result"
    }
   ],
   "source": [
    "columnNames2 = columnNames %('INTEGER', 'TEXT', 'INTEGER', 'TEXT', 'INTEGER', 'TEXT', 'TEXT', 'TEXT', 'TEXT', 'TEXT', 'INTEGER', 'INTEGER', 'INTEGER', 'TEXT', 'TEXT')\n",
    "columnNames2"
   ]
  },
  {
   "cell_type": "code",
   "execution_count": 24,
   "metadata": {},
   "outputs": [
    {
     "data": {
      "text/plain": [
       "'create table sqldb3(age INTEGER ,workclass TEXT ,fnlwgt INTEGER ,education TEXT ,education_num INTEGER ,marital_status TEXT ,occupation TEXT ,relationship TEXT ,race TEXT ,sex TEXT ,capital_gain INTEGER ,capital_loss INTEGER ,hours_per_week INTEGER ,native_country TEXT ,salary TEXT)'"
      ]
     },
     "execution_count": 24,
     "metadata": {},
     "output_type": "execute_result"
    }
   ],
   "source": [
    "'create table sqldb3(%s)' %columnNames2"
   ]
  },
  {
   "cell_type": "code",
   "execution_count": 25,
   "metadata": {},
   "outputs": [
    {
     "data": {
      "text/plain": [
       "<sqlite3.Cursor at 0x13e853cddc0>"
      ]
     },
     "execution_count": 25,
     "metadata": {},
     "output_type": "execute_result"
    }
   ],
   "source": [
    "cursor.execute('create table sqldb3(%s)' %columnNames2)"
   ]
  },
  {
   "cell_type": "code",
   "execution_count": 26,
   "metadata": {},
   "outputs": [],
   "source": [
    "sqlInsert = \"\"\"insert into sqldb3 values(?,?,?,?,?,?,?,?,?,?,?,?,?,?,?)\"\"\""
   ]
  },
  {
   "cell_type": "code",
   "execution_count": 27,
   "metadata": {},
   "outputs": [
    {
     "data": {
      "text/plain": [
       "'dfAdult.age, dfAdult.workclass, dfAdult.fnlwgt, dfAdult.education, dfAdult.education_num, dfAdult.marital_status, dfAdult.occupation, dfAdult.relationship, dfAdult.race, dfAdult.sex, dfAdult.capital_gain, dfAdult.capital_loss, dfAdult.hours_per_week, dfAdult.native_country, dfAdult.salary'"
      ]
     },
     "execution_count": 27,
     "metadata": {},
     "output_type": "execute_result"
    }
   ],
   "source": [
    "columnNames3 = func.reduce(lambda x,y: x + ', ' + 'dfAdult.' + y, dfAdult.columns.values)\n",
    "columnNames3 = 'dfAdult.' + columnNames3\n",
    "columnNames3"
   ]
  },
  {
   "cell_type": "code",
   "execution_count": 28,
   "metadata": {},
   "outputs": [
    {
     "data": {
      "text/plain": [
       "<sqlite3.Cursor at 0x13e853cddc0>"
      ]
     },
     "execution_count": 28,
     "metadata": {},
     "output_type": "execute_result"
    }
   ],
   "source": [
    "\n",
    "cursor.executemany(sqlInsert, zip(dfAdult.age, dfAdult.workclass, dfAdult.fnlwgt, dfAdult.education, dfAdult.education_num, dfAdult.marital_status, dfAdult.occupation, dfAdult.relationship, dfAdult.race, dfAdult.sex, dfAdult.capital_gain, dfAdult.capital_loss, dfAdult.hours_per_week, dfAdult.native_country, dfAdult.salary))"
   ]
  },
  {
   "cell_type": "code",
   "execution_count": 29,
   "metadata": {},
   "outputs": [],
   "source": [
    "conn.commit()"
   ]
  },
  {
   "cell_type": "markdown",
   "metadata": {},
   "source": [
    "## 1. Select 10 records from the adult sqladb"
   ]
  },
  {
   "cell_type": "code",
   "execution_count": 30,
   "metadata": {},
   "outputs": [
    {
     "data": {
      "text/plain": [
       "[(39,\n",
       "  ' State-gov',\n",
       "  77516,\n",
       "  ' Bachelors',\n",
       "  13,\n",
       "  ' Never-married',\n",
       "  ' Adm-clerical',\n",
       "  ' Not-in-family',\n",
       "  ' White',\n",
       "  ' Male',\n",
       "  2174,\n",
       "  0,\n",
       "  40,\n",
       "  ' United-States',\n",
       "  ' <=50K'),\n",
       " (50,\n",
       "  ' Self-emp-not-inc',\n",
       "  83311,\n",
       "  ' Bachelors',\n",
       "  13,\n",
       "  ' Married-civ-spouse',\n",
       "  ' Exec-managerial',\n",
       "  ' Husband',\n",
       "  ' White',\n",
       "  ' Male',\n",
       "  0,\n",
       "  0,\n",
       "  13,\n",
       "  ' United-States',\n",
       "  ' <=50K'),\n",
       " (38,\n",
       "  ' Private',\n",
       "  215646,\n",
       "  ' HS-grad',\n",
       "  9,\n",
       "  ' Divorced',\n",
       "  ' Handlers-cleaners',\n",
       "  ' Not-in-family',\n",
       "  ' White',\n",
       "  ' Male',\n",
       "  0,\n",
       "  0,\n",
       "  40,\n",
       "  ' United-States',\n",
       "  ' <=50K'),\n",
       " (53,\n",
       "  ' Private',\n",
       "  234721,\n",
       "  ' 11th',\n",
       "  7,\n",
       "  ' Married-civ-spouse',\n",
       "  ' Handlers-cleaners',\n",
       "  ' Husband',\n",
       "  ' Black',\n",
       "  ' Male',\n",
       "  0,\n",
       "  0,\n",
       "  40,\n",
       "  ' United-States',\n",
       "  ' <=50K'),\n",
       " (28,\n",
       "  ' Private',\n",
       "  338409,\n",
       "  ' Bachelors',\n",
       "  13,\n",
       "  ' Married-civ-spouse',\n",
       "  ' Prof-specialty',\n",
       "  ' Wife',\n",
       "  ' Black',\n",
       "  ' Female',\n",
       "  0,\n",
       "  0,\n",
       "  40,\n",
       "  ' Cuba',\n",
       "  ' <=50K'),\n",
       " (37,\n",
       "  ' Private',\n",
       "  284582,\n",
       "  ' Masters',\n",
       "  14,\n",
       "  ' Married-civ-spouse',\n",
       "  ' Exec-managerial',\n",
       "  ' Wife',\n",
       "  ' White',\n",
       "  ' Female',\n",
       "  0,\n",
       "  0,\n",
       "  40,\n",
       "  ' United-States',\n",
       "  ' <=50K'),\n",
       " (49,\n",
       "  ' Private',\n",
       "  160187,\n",
       "  ' 9th',\n",
       "  5,\n",
       "  ' Married-spouse-absent',\n",
       "  ' Other-service',\n",
       "  ' Not-in-family',\n",
       "  ' Black',\n",
       "  ' Female',\n",
       "  0,\n",
       "  0,\n",
       "  16,\n",
       "  ' Jamaica',\n",
       "  ' <=50K'),\n",
       " (52,\n",
       "  ' Self-emp-not-inc',\n",
       "  209642,\n",
       "  ' HS-grad',\n",
       "  9,\n",
       "  ' Married-civ-spouse',\n",
       "  ' Exec-managerial',\n",
       "  ' Husband',\n",
       "  ' White',\n",
       "  ' Male',\n",
       "  0,\n",
       "  0,\n",
       "  45,\n",
       "  ' United-States',\n",
       "  ' >50K'),\n",
       " (31,\n",
       "  ' Private',\n",
       "  45781,\n",
       "  ' Masters',\n",
       "  14,\n",
       "  ' Never-married',\n",
       "  ' Prof-specialty',\n",
       "  ' Not-in-family',\n",
       "  ' White',\n",
       "  ' Female',\n",
       "  14084,\n",
       "  0,\n",
       "  50,\n",
       "  ' United-States',\n",
       "  ' >50K'),\n",
       " (42,\n",
       "  ' Private',\n",
       "  159449,\n",
       "  ' Bachelors',\n",
       "  13,\n",
       "  ' Married-civ-spouse',\n",
       "  ' Exec-managerial',\n",
       "  ' Husband',\n",
       "  ' White',\n",
       "  ' Male',\n",
       "  5178,\n",
       "  0,\n",
       "  40,\n",
       "  ' United-States',\n",
       "  ' >50K')]"
      ]
     },
     "execution_count": 30,
     "metadata": {},
     "output_type": "execute_result"
    }
   ],
   "source": [
    "cursor.execute('select * from sqldb3 limit 10;')\n",
    "cursor.fetchall()"
   ]
  },
  {
   "cell_type": "markdown",
   "metadata": {},
   "source": [
    "## 2. Show me the average hours per week of all men who are working in private sector"
   ]
  },
  {
   "cell_type": "code",
   "execution_count": 31,
   "metadata": {},
   "outputs": [
    {
     "data": {
      "text/plain": [
       "[(40.267095523440254,)]"
      ]
     },
     "execution_count": 31,
     "metadata": {},
     "output_type": "execute_result"
    }
   ],
   "source": [
    "cursor.execute('select avg(hours_per_week) from sqldb3 where workclass=\" Private\";')\n",
    "cursor.fetchall()"
   ]
  },
  {
   "cell_type": "markdown",
   "metadata": {},
   "source": [
    "## 3. Show me the frequency table for education, occupation and relationship, separately"
   ]
  },
  {
   "cell_type": "code",
   "execution_count": 32,
   "metadata": {},
   "outputs": [
    {
     "name": "stdout",
     "output_type": "stream",
     "text": [
      "education: \n",
      "[(32561,)]\n",
      "occupation: \n",
      "[(32561,)]\n",
      "relationship: \n",
      "[(32561,)]\n"
     ]
    }
   ],
   "source": [
    "cursor.execute('select count(education) from sqldb3;')\n",
    "print('education: ')\n",
    "print(cursor.fetchall())\n",
    "cursor.execute('select count(occupation) from sqldb3;')\n",
    "print('occupation: ')\n",
    "print(cursor.fetchall())\n",
    "cursor.execute('select count(relationship) from sqldb3;')\n",
    "print('relationship: ')\n",
    "print(cursor.fetchall())"
   ]
  },
  {
   "cell_type": "code",
   "execution_count": 33,
   "metadata": {},
   "outputs": [
    {
     "name": "stdout",
     "output_type": "stream",
     "text": [
      "education, total#education, total#occupation, total#relationship\n",
      "----------------------------------------------------------------------\n",
      "(' 10th', 933, 933, 933)\n",
      "(' 11th', 1175, 1175, 1175)\n",
      "(' 12th', 433, 433, 433)\n",
      "(' 1st-4th', 168, 168, 168)\n",
      "(' 5th-6th', 333, 333, 333)\n",
      "(' 7th-8th', 646, 646, 646)\n",
      "(' 9th', 514, 514, 514)\n",
      "(' Assoc-acdm', 1067, 1067, 1067)\n",
      "(' Assoc-voc', 1382, 1382, 1382)\n",
      "(' Bachelors', 5355, 5355, 5355)\n",
      "(' Doctorate', 413, 413, 413)\n",
      "(' HS-grad', 10501, 10501, 10501)\n",
      "(' Masters', 1723, 1723, 1723)\n",
      "(' Preschool', 51, 51, 51)\n",
      "(' Prof-school', 576, 576, 576)\n",
      "(' Some-college', 7291, 7291, 7291)\n"
     ]
    },
    {
     "data": {
      "text/plain": [
       "[None,\n",
       " None,\n",
       " None,\n",
       " None,\n",
       " None,\n",
       " None,\n",
       " None,\n",
       " None,\n",
       " None,\n",
       " None,\n",
       " None,\n",
       " None,\n",
       " None,\n",
       " None,\n",
       " None,\n",
       " None]"
      ]
     },
     "execution_count": 33,
     "metadata": {},
     "output_type": "execute_result"
    }
   ],
   "source": [
    "cursor.execute('select education, count(education), count(occupation), count(relationship) from sqldb3 group by education;')\n",
    "print('education, total#education, total#occupation, total#relationship')\n",
    "print('-'*70)\n",
    "returnedRows = cursor.fetchall()\n",
    "[print(x) for x in returnedRows]"
   ]
  },
  {
   "cell_type": "markdown",
   "metadata": {},
   "source": [
    "## 4. Are there any people who are married, working in private sector and having a masters degree"
   ]
  },
  {
   "cell_type": "code",
   "execution_count": 34,
   "metadata": {},
   "outputs": [
    {
     "data": {
      "text/html": [
       "<div>\n",
       "<style scoped>\n",
       "    .dataframe tbody tr th:only-of-type {\n",
       "        vertical-align: middle;\n",
       "    }\n",
       "\n",
       "    .dataframe tbody tr th {\n",
       "        vertical-align: top;\n",
       "    }\n",
       "\n",
       "    .dataframe thead th {\n",
       "        text-align: right;\n",
       "    }\n",
       "</style>\n",
       "<table border=\"1\" class=\"dataframe\">\n",
       "  <thead>\n",
       "    <tr style=\"text-align: right;\">\n",
       "      <th></th>\n",
       "      <th>age</th>\n",
       "      <th>workclass</th>\n",
       "      <th>fnlwgt</th>\n",
       "      <th>education</th>\n",
       "      <th>education_num</th>\n",
       "      <th>marital_status</th>\n",
       "      <th>occupation</th>\n",
       "      <th>relationship</th>\n",
       "      <th>race</th>\n",
       "      <th>sex</th>\n",
       "      <th>capital_gain</th>\n",
       "      <th>capital_loss</th>\n",
       "      <th>hours_per_week</th>\n",
       "      <th>native_country</th>\n",
       "      <th>salary</th>\n",
       "    </tr>\n",
       "  </thead>\n",
       "  <tbody>\n",
       "    <tr>\n",
       "      <th>0</th>\n",
       "      <td>39</td>\n",
       "      <td>State-gov</td>\n",
       "      <td>77516</td>\n",
       "      <td>Bachelors</td>\n",
       "      <td>13</td>\n",
       "      <td>Never-married</td>\n",
       "      <td>Adm-clerical</td>\n",
       "      <td>Not-in-family</td>\n",
       "      <td>White</td>\n",
       "      <td>Male</td>\n",
       "      <td>2174</td>\n",
       "      <td>0</td>\n",
       "      <td>40</td>\n",
       "      <td>United-States</td>\n",
       "      <td>&lt;=50K</td>\n",
       "    </tr>\n",
       "    <tr>\n",
       "      <th>1</th>\n",
       "      <td>50</td>\n",
       "      <td>Self-emp-not-inc</td>\n",
       "      <td>83311</td>\n",
       "      <td>Bachelors</td>\n",
       "      <td>13</td>\n",
       "      <td>Married-civ-spouse</td>\n",
       "      <td>Exec-managerial</td>\n",
       "      <td>Husband</td>\n",
       "      <td>White</td>\n",
       "      <td>Male</td>\n",
       "      <td>0</td>\n",
       "      <td>0</td>\n",
       "      <td>13</td>\n",
       "      <td>United-States</td>\n",
       "      <td>&lt;=50K</td>\n",
       "    </tr>\n",
       "    <tr>\n",
       "      <th>2</th>\n",
       "      <td>38</td>\n",
       "      <td>Private</td>\n",
       "      <td>215646</td>\n",
       "      <td>HS-grad</td>\n",
       "      <td>9</td>\n",
       "      <td>Divorced</td>\n",
       "      <td>Handlers-cleaners</td>\n",
       "      <td>Not-in-family</td>\n",
       "      <td>White</td>\n",
       "      <td>Male</td>\n",
       "      <td>0</td>\n",
       "      <td>0</td>\n",
       "      <td>40</td>\n",
       "      <td>United-States</td>\n",
       "      <td>&lt;=50K</td>\n",
       "    </tr>\n",
       "    <tr>\n",
       "      <th>3</th>\n",
       "      <td>53</td>\n",
       "      <td>Private</td>\n",
       "      <td>234721</td>\n",
       "      <td>11th</td>\n",
       "      <td>7</td>\n",
       "      <td>Married-civ-spouse</td>\n",
       "      <td>Handlers-cleaners</td>\n",
       "      <td>Husband</td>\n",
       "      <td>Black</td>\n",
       "      <td>Male</td>\n",
       "      <td>0</td>\n",
       "      <td>0</td>\n",
       "      <td>40</td>\n",
       "      <td>United-States</td>\n",
       "      <td>&lt;=50K</td>\n",
       "    </tr>\n",
       "    <tr>\n",
       "      <th>4</th>\n",
       "      <td>28</td>\n",
       "      <td>Private</td>\n",
       "      <td>338409</td>\n",
       "      <td>Bachelors</td>\n",
       "      <td>13</td>\n",
       "      <td>Married-civ-spouse</td>\n",
       "      <td>Prof-specialty</td>\n",
       "      <td>Wife</td>\n",
       "      <td>Black</td>\n",
       "      <td>Female</td>\n",
       "      <td>0</td>\n",
       "      <td>0</td>\n",
       "      <td>40</td>\n",
       "      <td>Cuba</td>\n",
       "      <td>&lt;=50K</td>\n",
       "    </tr>\n",
       "  </tbody>\n",
       "</table>\n",
       "</div>"
      ],
      "text/plain": [
       "   age          workclass  fnlwgt   education  education_num  \\\n",
       "0   39          State-gov   77516   Bachelors             13   \n",
       "1   50   Self-emp-not-inc   83311   Bachelors             13   \n",
       "2   38            Private  215646     HS-grad              9   \n",
       "3   53            Private  234721        11th              7   \n",
       "4   28            Private  338409   Bachelors             13   \n",
       "\n",
       "        marital_status          occupation    relationship    race      sex  \\\n",
       "0        Never-married        Adm-clerical   Not-in-family   White     Male   \n",
       "1   Married-civ-spouse     Exec-managerial         Husband   White     Male   \n",
       "2             Divorced   Handlers-cleaners   Not-in-family   White     Male   \n",
       "3   Married-civ-spouse   Handlers-cleaners         Husband   Black     Male   \n",
       "4   Married-civ-spouse      Prof-specialty            Wife   Black   Female   \n",
       "\n",
       "   capital_gain  capital_loss  hours_per_week  native_country  salary  \n",
       "0          2174             0              40   United-States   <=50K  \n",
       "1             0             0              13   United-States   <=50K  \n",
       "2             0             0              40   United-States   <=50K  \n",
       "3             0             0              40   United-States   <=50K  \n",
       "4             0             0              40            Cuba   <=50K  "
      ]
     },
     "execution_count": 34,
     "metadata": {},
     "output_type": "execute_result"
    }
   ],
   "source": [
    "dfAdult.head()"
   ]
  },
  {
   "cell_type": "code",
   "execution_count": 35,
   "metadata": {},
   "outputs": [
    {
     "data": {
      "text/plain": [
       "[(531,)]"
      ]
     },
     "execution_count": 35,
     "metadata": {},
     "output_type": "execute_result"
    }
   ],
   "source": [
    "cursor.execute(\"\"\"select count(*) from sqldb3 where marital_status like \"%Married-civ-spouse\"\n",
    "and workclass like \"%Private\" and education like \"%Masters\";\"\"\")\n",
    "cursor.fetchall()"
   ]
  },
  {
   "cell_type": "markdown",
   "metadata": {},
   "source": [
    "## 5. What is the average, minimum and maximum age group for people working in different sectors"
   ]
  },
  {
   "cell_type": "code",
   "execution_count": 36,
   "metadata": {},
   "outputs": [
    {
     "data": {
      "text/plain": [
       "[(' ?', 17, 40.960239651416124, 90),\n",
       " (' Federal-gov', 17, 42.590625, 90),\n",
       " (' Local-gov', 17, 41.75107501194458, 90),\n",
       " (' Never-worked', 17, 20.571428571428573, 30),\n",
       " (' Private', 17, 36.797585477617204, 90),\n",
       " (' Self-emp-inc', 17, 46.01702508960574, 84),\n",
       " (' Self-emp-not-inc', 17, 44.96969696969697, 90),\n",
       " (' State-gov', 17, 39.43605546995377, 81),\n",
       " (' Without-pay', 19, 47.785714285714285, 72)]"
      ]
     },
     "execution_count": 36,
     "metadata": {},
     "output_type": "execute_result"
    }
   ],
   "source": [
    "cursor.execute(\"\"\"select workclass, min(age), avg(age), max(age) from sqldb3 group by workclass;\"\"\")\n",
    "cursor.fetchall()"
   ]
  },
  {
   "cell_type": "markdown",
   "metadata": {},
   "source": [
    "## 6. Calculate age distribution by country"
   ]
  },
  {
   "cell_type": "code",
   "execution_count": 37,
   "metadata": {},
   "outputs": [
    {
     "name": "stdout",
     "output_type": "stream",
     "text": [
      "Country, minimum age, average age, maximum age\n",
      "----------------------------------------------------------------------\n"
     ]
    },
    {
     "data": {
      "text/plain": [
       "[(' ?', 17, 38.72555746140652, 90),\n",
       " (' Cambodia', 18, 37.78947368421053, 65),\n",
       " (' Canada', 17, 42.54545454545455, 80),\n",
       " (' China', 22, 42.53333333333333, 75),\n",
       " (' Columbia', 18, 39.71186440677966, 75),\n",
       " (' Cuba', 21, 45.76842105263158, 82),\n",
       " (' Dominican-Republic', 18, 37.72857142857143, 78),\n",
       " (' Ecuador', 21, 36.642857142857146, 90),\n",
       " (' El-Salvador', 17, 34.132075471698116, 79),\n",
       " (' England', 17, 41.15555555555556, 90),\n",
       " (' France', 20, 38.96551724137931, 64),\n",
       " (' Germany', 18, 39.25547445255474, 74),\n",
       " (' Greece', 22, 46.206896551724135, 65),\n",
       " (' Guatemala', 19, 32.421875, 66),\n",
       " (' Haiti', 17, 38.27272727272727, 63),\n",
       " (' Holand-Netherlands', 32, 32.0, 32),\n",
       " (' Honduras', 18, 33.84615384615385, 58),\n",
       " (' Hong', 19, 33.65, 60),\n",
       " (' Hungary', 24, 49.38461538461539, 81),\n",
       " (' India', 17, 38.09, 61),\n",
       " (' Iran', 22, 39.41860465116279, 63),\n",
       " (' Ireland', 23, 36.458333333333336, 68),\n",
       " (' Italy', 19, 46.42465753424658, 77),\n",
       " (' Jamaica', 18, 35.592592592592595, 66),\n",
       " (' Japan', 19, 38.24193548387097, 61),\n",
       " (' Laos', 19, 34.72222222222222, 56),\n",
       " (' Mexico', 17, 33.29082426127527, 81),\n",
       " (' Nicaragua', 19, 33.61764705882353, 67),\n",
       " (' Outlying-US(Guam-USVI-etc)', 21, 38.714285714285715, 63),\n",
       " (' Peru', 17, 35.25806451612903, 69),\n",
       " (' Philippines', 17, 39.44444444444444, 90),\n",
       " (' Poland', 17, 43.11666666666667, 85),\n",
       " (' Portugal', 19, 40.2972972972973, 78),\n",
       " (' Puerto-Rico', 17, 40.50877192982456, 90),\n",
       " (' Scotland', 18, 40.416666666666664, 62),\n",
       " (' South', 19, 38.75, 90),\n",
       " (' Taiwan', 20, 33.8235294117647, 61),\n",
       " (' Thailand', 19, 34.94444444444444, 55),\n",
       " (' Trinadad&Tobago', 17, 41.31578947368421, 61),\n",
       " (' United-States', 17, 38.65567363729859, 90),\n",
       " (' Vietnam', 19, 34.059701492537314, 73),\n",
       " (' Yugoslavia', 20, 38.8125, 66)]"
      ]
     },
     "execution_count": 37,
     "metadata": {},
     "output_type": "execute_result"
    }
   ],
   "source": [
    "cursor.execute(\"\"\"select native_country, min(age), avg(age), max(age) from sqldb3 \n",
    "group by native_country;\"\"\")\n",
    "print('Country, minimum age, average age, maximum age')\n",
    "print('-'*70)\n",
    "cursor.fetchall()"
   ]
  },
  {
   "cell_type": "markdown",
   "metadata": {},
   "source": [
    "## 7. Compute a new column as 'Net-Capital-Gain' from the two columns 'capital-gain' and 'capital-loss'"
   ]
  },
  {
   "cell_type": "code",
   "execution_count": 38,
   "metadata": {},
   "outputs": [
    {
     "name": "stdout",
     "output_type": "stream",
     "text": [
      "Net Capital Gain for 2 rows\n",
      "(2174,)\n",
      "(14084,)\n"
     ]
    }
   ],
   "source": [
    "cursor.execute(\"\"\"select (capital_gain - capital_loss) as Net_Capital_Gain from sqldb3\n",
    "where capital_gain != 0;\"\"\")\n",
    "print('Net Capital Gain for 2 rows')\n",
    "print(cursor.fetchone())\n",
    "print(cursor.fetchone())"
   ]
  },
  {
   "cell_type": "code",
   "execution_count": 39,
   "metadata": {},
   "outputs": [
    {
     "name": "stdout",
     "output_type": "stream",
     "text": [
      "Net Capital Gain for every country\n"
     ]
    },
    {
     "data": {
      "text/plain": [
       "[(' ?', 1053200),\n",
       " (' Cambodia', 19529),\n",
       " (' Canada', 182000),\n",
       " (' China', 27486),\n",
       " (' Columbia', 10656),\n",
       " (' Cuba', 34887),\n",
       " (' Dominican-Republic', 103324),\n",
       " (' Ecuador', 14773),\n",
       " (' El-Salvador', 60878),\n",
       " (' England', 77825),\n",
       " (' France', 15864),\n",
       " (' Germany', 121532),\n",
       " (' Greece', 37233),\n",
       " (' Guatemala', 14773),\n",
       " (' Hungary', 9316),\n",
       " (' India', 360492),\n",
       " (' Iran', 87920),\n",
       " (' Ireland', 7787),\n",
       " (' Italy', 44640),\n",
       " (' Jamaica', 38486),\n",
       " (' Japan', 157866),\n",
       " (' Laos', 2885),\n",
       " (' Mexico', 223139),\n",
       " (' Nicaragua', 6794),\n",
       " (' Peru', 1831),\n",
       " (' Philippines', 201632),\n",
       " (' Poland', 41057),\n",
       " (' Portugal', 8450),\n",
       " (' Puerto-Rico', 36160),\n",
       " (' Scotland', 5178),\n",
       " (' South', 149579),\n",
       " (' Taiwan', 109499),\n",
       " (' United-States', 31772837),\n",
       " (' Vietnam', 44260),\n",
       " (' Yugoslavia', 5556)]"
      ]
     },
     "execution_count": 39,
     "metadata": {},
     "output_type": "execute_result"
    }
   ],
   "source": [
    "cursor.execute(\"\"\"select native_country as Country, sum(capital_gain - capital_loss) as Net_Capital_Gain from sqldb3\n",
    "where capital_gain != 0 group by native_country;\"\"\")\n",
    "print('Net Capital Gain for every country')\n",
    "cursor.fetchall()"
   ]
  },
  {
   "cell_type": "markdown",
   "metadata": {},
   "source": [
    "# Task 2:"
   ]
  },
  {
   "cell_type": "markdown",
   "metadata": {},
   "source": [
    "### Read the following data set: https://archive.ics.uci.edu/ml/machine-learning-databases/adult/adult.data"
   ]
  },
  {
   "cell_type": "code",
   "execution_count": 41,
   "metadata": {},
   "outputs": [],
   "source": [
    "from sqlalchemy import create_engine\n",
    "from sqlalchemy.orm import sessionmaker, scoped_session\n",
    "from sqlalchemy.ext.declarative import declarative_base\n",
    "from sqlalchemy import Column, Integer, String, MetaData, Table, select"
   ]
  },
  {
   "cell_type": "code",
   "execution_count": 42,
   "metadata": {},
   "outputs": [],
   "source": [
    "dfAdultData = pd.read_csv('https://archive.ics.uci.edu/ml/machine-learning-databases/adult/adult.data', header=None)"
   ]
  },
  {
   "cell_type": "code",
   "execution_count": 43,
   "metadata": {},
   "outputs": [
    {
     "data": {
      "text/plain": [
       "['age',\n",
       " 'workclass',\n",
       " 'fnlwgt',\n",
       " 'education',\n",
       " 'education_num',\n",
       " 'marital_status',\n",
       " 'occupation',\n",
       " 'relationship',\n",
       " 'race',\n",
       " 'sex',\n",
       " 'capital_gain',\n",
       " 'capital_loss',\n",
       " 'hours_per_week',\n",
       " 'native_country',\n",
       " 'salary ']"
      ]
     },
     "execution_count": 43,
     "metadata": {},
     "output_type": "execute_result"
    }
   ],
   "source": [
    "columnNamesTask2 = columnNames.replace(\"%s\", \"\")\n",
    "columnNamesTask22 = columnNamesTask2.split(\"  ,\")\n",
    "columnNamesTask22"
   ]
  },
  {
   "cell_type": "code",
   "execution_count": 44,
   "metadata": {},
   "outputs": [],
   "source": [
    "dfAdultData.columns = columnNamesTask22"
   ]
  },
  {
   "cell_type": "code",
   "execution_count": 45,
   "metadata": {},
   "outputs": [
    {
     "data": {
      "text/html": [
       "<div>\n",
       "<style scoped>\n",
       "    .dataframe tbody tr th:only-of-type {\n",
       "        vertical-align: middle;\n",
       "    }\n",
       "\n",
       "    .dataframe tbody tr th {\n",
       "        vertical-align: top;\n",
       "    }\n",
       "\n",
       "    .dataframe thead th {\n",
       "        text-align: right;\n",
       "    }\n",
       "</style>\n",
       "<table border=\"1\" class=\"dataframe\">\n",
       "  <thead>\n",
       "    <tr style=\"text-align: right;\">\n",
       "      <th></th>\n",
       "      <th>age</th>\n",
       "      <th>workclass</th>\n",
       "      <th>fnlwgt</th>\n",
       "      <th>education</th>\n",
       "      <th>education_num</th>\n",
       "      <th>marital_status</th>\n",
       "      <th>occupation</th>\n",
       "      <th>relationship</th>\n",
       "      <th>race</th>\n",
       "      <th>sex</th>\n",
       "      <th>capital_gain</th>\n",
       "      <th>capital_loss</th>\n",
       "      <th>hours_per_week</th>\n",
       "      <th>native_country</th>\n",
       "      <th>salary</th>\n",
       "    </tr>\n",
       "  </thead>\n",
       "  <tbody>\n",
       "    <tr>\n",
       "      <th>0</th>\n",
       "      <td>39</td>\n",
       "      <td>State-gov</td>\n",
       "      <td>77516</td>\n",
       "      <td>Bachelors</td>\n",
       "      <td>13</td>\n",
       "      <td>Never-married</td>\n",
       "      <td>Adm-clerical</td>\n",
       "      <td>Not-in-family</td>\n",
       "      <td>White</td>\n",
       "      <td>Male</td>\n",
       "      <td>2174</td>\n",
       "      <td>0</td>\n",
       "      <td>40</td>\n",
       "      <td>United-States</td>\n",
       "      <td>&lt;=50K</td>\n",
       "    </tr>\n",
       "    <tr>\n",
       "      <th>1</th>\n",
       "      <td>50</td>\n",
       "      <td>Self-emp-not-inc</td>\n",
       "      <td>83311</td>\n",
       "      <td>Bachelors</td>\n",
       "      <td>13</td>\n",
       "      <td>Married-civ-spouse</td>\n",
       "      <td>Exec-managerial</td>\n",
       "      <td>Husband</td>\n",
       "      <td>White</td>\n",
       "      <td>Male</td>\n",
       "      <td>0</td>\n",
       "      <td>0</td>\n",
       "      <td>13</td>\n",
       "      <td>United-States</td>\n",
       "      <td>&lt;=50K</td>\n",
       "    </tr>\n",
       "    <tr>\n",
       "      <th>2</th>\n",
       "      <td>38</td>\n",
       "      <td>Private</td>\n",
       "      <td>215646</td>\n",
       "      <td>HS-grad</td>\n",
       "      <td>9</td>\n",
       "      <td>Divorced</td>\n",
       "      <td>Handlers-cleaners</td>\n",
       "      <td>Not-in-family</td>\n",
       "      <td>White</td>\n",
       "      <td>Male</td>\n",
       "      <td>0</td>\n",
       "      <td>0</td>\n",
       "      <td>40</td>\n",
       "      <td>United-States</td>\n",
       "      <td>&lt;=50K</td>\n",
       "    </tr>\n",
       "  </tbody>\n",
       "</table>\n",
       "</div>"
      ],
      "text/plain": [
       "   age          workclass  fnlwgt   education  education_num  \\\n",
       "0   39          State-gov   77516   Bachelors             13   \n",
       "1   50   Self-emp-not-inc   83311   Bachelors             13   \n",
       "2   38            Private  215646     HS-grad              9   \n",
       "\n",
       "        marital_status          occupation    relationship    race    sex  \\\n",
       "0        Never-married        Adm-clerical   Not-in-family   White   Male   \n",
       "1   Married-civ-spouse     Exec-managerial         Husband   White   Male   \n",
       "2             Divorced   Handlers-cleaners   Not-in-family   White   Male   \n",
       "\n",
       "   capital_gain  capital_loss  hours_per_week  native_country salary   \n",
       "0          2174             0              40   United-States   <=50K  \n",
       "1             0             0              13   United-States   <=50K  \n",
       "2             0             0              40   United-States   <=50K  "
      ]
     },
     "execution_count": 45,
     "metadata": {},
     "output_type": "execute_result"
    }
   ],
   "source": [
    "dfAdultData.head(3)"
   ]
  },
  {
   "cell_type": "markdown",
   "metadata": {},
   "source": [
    "## 1. Create an sqlalchemy engine using a sample from the data set"
   ]
  },
  {
   "cell_type": "code",
   "execution_count": 46,
   "metadata": {},
   "outputs": [],
   "source": [
    "engine = create_engine('sqlite:///adultData.db', echo=True)"
   ]
  },
  {
   "cell_type": "code",
   "execution_count": 47,
   "metadata": {},
   "outputs": [
    {
     "name": "stdout",
     "output_type": "stream",
     "text": [
      "2019-07-20 21:51:50,197 INFO sqlalchemy.engine.base.Engine SELECT CAST('test plain returns' AS VARCHAR(60)) AS anon_1\n",
      "2019-07-20 21:51:50,199 INFO sqlalchemy.engine.base.Engine ()\n",
      "2019-07-20 21:51:50,201 INFO sqlalchemy.engine.base.Engine SELECT CAST('test unicode returns' AS VARCHAR(60)) AS anon_1\n",
      "2019-07-20 21:51:50,201 INFO sqlalchemy.engine.base.Engine ()\n",
      "2019-07-20 21:51:50,203 INFO sqlalchemy.engine.base.Engine PRAGMA table_info(\"Adult\")\n",
      "2019-07-20 21:51:50,204 INFO sqlalchemy.engine.base.Engine ()\n",
      "2019-07-20 21:51:50,211 INFO sqlalchemy.engine.base.Engine \n",
      "CREATE TABLE \"Adult\" (\n",
      "\t\"index\" BIGINT, \n",
      "\tage BIGINT, \n",
      "\tworkclass TEXT, \n",
      "\tfnlwgt BIGINT, \n",
      "\teducation TEXT, \n",
      "\teducation_num BIGINT, \n",
      "\tmarital_status TEXT, \n",
      "\toccupation TEXT, \n",
      "\trelationship TEXT, \n",
      "\trace TEXT, \n",
      "\tsex TEXT, \n",
      "\tcapital_gain BIGINT, \n",
      "\tcapital_loss BIGINT, \n",
      "\thours_per_week BIGINT, \n",
      "\tnative_country TEXT, \n",
      "\t\"salary \" TEXT\n",
      ")\n",
      "\n",
      "\n",
      "2019-07-20 21:51:50,213 INFO sqlalchemy.engine.base.Engine ()\n",
      "2019-07-20 21:51:50,226 INFO sqlalchemy.engine.base.Engine COMMIT\n",
      "2019-07-20 21:51:50,227 INFO sqlalchemy.engine.base.Engine CREATE INDEX \"ix_Adult_index\" ON \"Adult\" (\"index\")\n",
      "2019-07-20 21:51:50,229 INFO sqlalchemy.engine.base.Engine ()\n",
      "2019-07-20 21:51:50,242 INFO sqlalchemy.engine.base.Engine COMMIT\n",
      "2019-07-20 21:51:50,277 INFO sqlalchemy.engine.base.Engine BEGIN (implicit)\n",
      "2019-07-20 21:51:50,917 INFO sqlalchemy.engine.base.Engine INSERT INTO \"Adult\" (\"index\", age, workclass, fnlwgt, education, education_num, marital_status, occupation, relationship, race, sex, capital_gain, capital_loss, hours_per_week, native_country, \"salary \") VALUES (?, ?, ?, ?, ?, ?, ?, ?, ?, ?, ?, ?, ?, ?, ?, ?)\n",
      "2019-07-20 21:51:50,918 INFO sqlalchemy.engine.base.Engine ((0, 39, ' State-gov', 77516, ' Bachelors', 13, ' Never-married', ' Adm-clerical', ' Not-in-family', ' White', ' Male', 2174, 0, 40, ' United-States', ' <=50K'), (1, 50, ' Self-emp-not-inc', 83311, ' Bachelors', 13, ' Married-civ-spouse', ' Exec-managerial', ' Husband', ' White', ' Male', 0, 0, 13, ' United-States', ' <=50K'), (2, 38, ' Private', 215646, ' HS-grad', 9, ' Divorced', ' Handlers-cleaners', ' Not-in-family', ' White', ' Male', 0, 0, 40, ' United-States', ' <=50K'), (3, 53, ' Private', 234721, ' 11th', 7, ' Married-civ-spouse', ' Handlers-cleaners', ' Husband', ' Black', ' Male', 0, 0, 40, ' United-States', ' <=50K'), (4, 28, ' Private', 338409, ' Bachelors', 13, ' Married-civ-spouse', ' Prof-specialty', ' Wife', ' Black', ' Female', 0, 0, 40, ' Cuba', ' <=50K'), (5, 37, ' Private', 284582, ' Masters', 14, ' Married-civ-spouse', ' Exec-managerial', ' Wife', ' White', ' Female', 0, 0, 40, ' United-States', ' <=50K'), (6, 49, ' Private', 160187, ' 9th', 5, ' Married-spouse-absent', ' Other-service', ' Not-in-family', ' Black', ' Female', 0, 0, 16, ' Jamaica', ' <=50K'), (7, 52, ' Self-emp-not-inc', 209642, ' HS-grad', 9, ' Married-civ-spouse', ' Exec-managerial', ' Husband', ' White', ' Male', 0, 0, 45, ' United-States', ' >50K')  ... displaying 10 of 32561 total bound parameter sets ...  (32559, 22, ' Private', 201490, ' HS-grad', 9, ' Never-married', ' Adm-clerical', ' Own-child', ' White', ' Male', 0, 0, 20, ' United-States', ' <=50K'), (32560, 52, ' Self-emp-inc', 287927, ' HS-grad', 9, ' Married-civ-spouse', ' Exec-managerial', ' Wife', ' White', ' Female', 15024, 0, 40, ' United-States', ' >50K'))\n",
      "2019-07-20 21:51:51,255 INFO sqlalchemy.engine.base.Engine COMMIT\n",
      "2019-07-20 21:51:51,309 INFO sqlalchemy.engine.base.Engine SELECT name FROM sqlite_master WHERE type='table' ORDER BY name\n",
      "2019-07-20 21:51:51,311 INFO sqlalchemy.engine.base.Engine ()\n"
     ]
    }
   ],
   "source": [
    "dfAdultData.to_sql('Adult', engine)"
   ]
  },
  {
   "cell_type": "markdown",
   "metadata": {},
   "source": [
    "## 2. Write two basic update queries"
   ]
  },
  {
   "cell_type": "code",
   "execution_count": 48,
   "metadata": {},
   "outputs": [],
   "source": [
    "metadata = MetaData()"
   ]
  },
  {
   "cell_type": "code",
   "execution_count": 49,
   "metadata": {},
   "outputs": [
    {
     "name": "stdout",
     "output_type": "stream",
     "text": [
      "2019-07-20 21:52:03,554 INFO sqlalchemy.engine.base.Engine PRAGMA table_info(\"Adult\")\n",
      "2019-07-20 21:52:03,556 INFO sqlalchemy.engine.base.Engine ()\n",
      "2019-07-20 21:52:03,560 INFO sqlalchemy.engine.base.Engine SELECT sql FROM  (SELECT * FROM sqlite_master UNION ALL   SELECT * FROM sqlite_temp_master) WHERE name = 'Adult' AND type = 'table'\n",
      "2019-07-20 21:52:03,561 INFO sqlalchemy.engine.base.Engine ()\n",
      "2019-07-20 21:52:03,565 INFO sqlalchemy.engine.base.Engine PRAGMA foreign_key_list(\"Adult\")\n",
      "2019-07-20 21:52:03,566 INFO sqlalchemy.engine.base.Engine ()\n",
      "2019-07-20 21:52:03,567 INFO sqlalchemy.engine.base.Engine SELECT sql FROM  (SELECT * FROM sqlite_master UNION ALL   SELECT * FROM sqlite_temp_master) WHERE name = 'Adult' AND type = 'table'\n",
      "2019-07-20 21:52:03,568 INFO sqlalchemy.engine.base.Engine ()\n",
      "2019-07-20 21:52:03,572 INFO sqlalchemy.engine.base.Engine PRAGMA index_list(\"Adult\")\n",
      "2019-07-20 21:52:03,573 INFO sqlalchemy.engine.base.Engine ()\n",
      "2019-07-20 21:52:03,575 INFO sqlalchemy.engine.base.Engine PRAGMA index_info(\"ix_Adult_index\")\n",
      "2019-07-20 21:52:03,577 INFO sqlalchemy.engine.base.Engine ()\n",
      "2019-07-20 21:52:03,580 INFO sqlalchemy.engine.base.Engine PRAGMA index_list(\"Adult\")\n",
      "2019-07-20 21:52:03,583 INFO sqlalchemy.engine.base.Engine ()\n",
      "2019-07-20 21:52:03,585 INFO sqlalchemy.engine.base.Engine PRAGMA index_info(\"ix_Adult_index\")\n",
      "2019-07-20 21:52:03,586 INFO sqlalchemy.engine.base.Engine ()\n",
      "2019-07-20 21:52:03,589 INFO sqlalchemy.engine.base.Engine SELECT sql FROM  (SELECT * FROM sqlite_master UNION ALL   SELECT * FROM sqlite_temp_master) WHERE name = 'Adult' AND type = 'table'\n",
      "2019-07-20 21:52:03,590 INFO sqlalchemy.engine.base.Engine ()\n"
     ]
    }
   ],
   "source": [
    "user = Table('Adult', metadata,\n",
    "    Column('index', Integer, primary_key=True),\n",
    "    Column('age', Integer),\n",
    "    Column('workclass', String),\n",
    "    Column('nlwgt', Integer),\n",
    "    Column('education', String),\n",
    "    Column('education_num', Integer),\n",
    "    Column('marital_status', String),\n",
    "    Column('occupation', String),\n",
    "    Column('relationship', String),\n",
    "    Column('race', String),\n",
    "    Column('sex', String),\n",
    "    Column('capital_gain', Integer),\n",
    "    Column('capital_loss', Integer),\n",
    "    Column('hours_per_week', Integer),\n",
    "    Column('native_country', String),\n",
    "    Column('salary', String),\n",
    "    extend_existing=True,\n",
    "    autoload=True,\n",
    "    autoload_with=engine\n",
    ")"
   ]
  },
  {
   "cell_type": "code",
   "execution_count": 50,
   "metadata": {},
   "outputs": [],
   "source": [
    "upd = user.update().where(user.c.native_country==' Cambodia').values(native_country='Cambodia')"
   ]
  },
  {
   "cell_type": "code",
   "execution_count": 51,
   "metadata": {},
   "outputs": [
    {
     "name": "stdout",
     "output_type": "stream",
     "text": [
      "2019-07-20 21:52:12,336 INFO sqlalchemy.engine.base.Engine UPDATE \"Adult\" SET native_country=? WHERE \"Adult\".native_country = ?\n",
      "2019-07-20 21:52:12,338 INFO sqlalchemy.engine.base.Engine ('Cambodia', ' Cambodia')\n",
      "2019-07-20 21:52:12,367 INFO sqlalchemy.engine.base.Engine COMMIT\n"
     ]
    },
    {
     "data": {
      "text/plain": [
       "<sqlalchemy.engine.result.ResultProxy at 0x13e84d4e320>"
      ]
     },
     "execution_count": 51,
     "metadata": {},
     "output_type": "execute_result"
    }
   ],
   "source": [
    "engine.execute(upd)"
   ]
  },
  {
   "cell_type": "code",
   "execution_count": 52,
   "metadata": {},
   "outputs": [],
   "source": [
    "upd = user.update().where(user.c.fnlwgt==1455435).values(fnlwgt=1455435)"
   ]
  },
  {
   "cell_type": "code",
   "execution_count": 53,
   "metadata": {},
   "outputs": [
    {
     "name": "stdout",
     "output_type": "stream",
     "text": [
      "2019-07-20 21:52:24,943 INFO sqlalchemy.engine.base.Engine UPDATE \"Adult\" SET fnlwgt=? WHERE \"Adult\".fnlwgt = ?\n",
      "2019-07-20 21:52:24,945 INFO sqlalchemy.engine.base.Engine (1455435, 1455435)\n",
      "2019-07-20 21:52:24,964 INFO sqlalchemy.engine.base.Engine COMMIT\n"
     ]
    },
    {
     "data": {
      "text/plain": [
       "<sqlalchemy.engine.result.ResultProxy at 0x13e85002e10>"
      ]
     },
     "execution_count": 53,
     "metadata": {},
     "output_type": "execute_result"
    }
   ],
   "source": [
    "engine.execute(upd)"
   ]
  },
  {
   "cell_type": "code",
   "execution_count": 54,
   "metadata": {},
   "outputs": [
    {
     "data": {
      "text/plain": [
       "<sqlite3.Cursor at 0x13e84fe1f80>"
      ]
     },
     "execution_count": 54,
     "metadata": {},
     "output_type": "execute_result"
    }
   ],
   "source": [
    "# One more way of update query\n",
    "import sqlite3\n",
    "connection = sqlite3.connect(\"adultData.db\")\n",
    "cursor = connection.cursor()\n",
    "cursor.execute('update Adult set native_country=\"Cambodia\" where native_country = \"%Cambodia\"')\n",
    "cursor.execute('update Adult set education=trim(education)')"
   ]
  },
  {
   "cell_type": "markdown",
   "metadata": {},
   "source": [
    "## 3. Write two delete queries"
   ]
  },
  {
   "cell_type": "code",
   "execution_count": null,
   "metadata": {},
   "outputs": [],
   "source": [
    "dele = user.delete().where(user.c.capital_gain==99999)\n",
    "engine.execute(dele)"
   ]
  },
  {
   "cell_type": "code",
   "execution_count": null,
   "metadata": {},
   "outputs": [],
   "source": [
    "dele = user.delete().where(user.c.fnlwgt==1455435)\n",
    "engine.execute(dele)"
   ]
  },
  {
   "cell_type": "code",
   "execution_count": 59,
   "metadata": {},
   "outputs": [
    {
     "data": {
      "text/plain": [
       "<sqlite3.Cursor at 0x13e84fe1f80>"
      ]
     },
     "execution_count": 59,
     "metadata": {},
     "output_type": "execute_result"
    }
   ],
   "source": [
    "\n",
    "# One more way of delete query\n",
    "cursor.execute('select distinct(workclass) from Adult where capital_gain=99999').fetchone()\n",
    "cursor.execute('delete from Adult where capital_gain=99999 and workclass like \"%Self-emp-inc\"')\n",
    "cursor.execute('select max(fnlwgt) from Adult').fetchone()\n",
    "cursor.execute('delete from Adult where fnlwgt=1455435')"
   ]
  },
  {
   "cell_type": "markdown",
   "metadata": {},
   "source": [
    "## 4. Write two filter queries"
   ]
  },
  {
   "cell_type": "code",
   "execution_count": 60,
   "metadata": {},
   "outputs": [],
   "source": [
    "# As explained in support ticket, Table object doesn't has filter_by to query with filters and Base class object doesn't have extend_existing so I am \n",
    "# using SQL method to fetch rows by where clause"
   ]
  },
  {
   "cell_type": "code",
   "execution_count": 61,
   "metadata": {},
   "outputs": [
    {
     "data": {
      "text/plain": [
       "('Bachelors', 13)"
      ]
     },
     "execution_count": 61,
     "metadata": {},
     "output_type": "execute_result"
    }
   ],
   "source": [
    "cursor.execute('select education as \"Education\", education_num as \"Education_No\" from Adult where education_num > 10').fetchone()"
   ]
  },
  {
   "cell_type": "code",
   "execution_count": 62,
   "metadata": {},
   "outputs": [
    {
     "data": {
      "text/plain": [
       "(52.02095138681778, ' United-States')"
      ]
     },
     "execution_count": 62,
     "metadata": {},
     "output_type": "execute_result"
    }
   ],
   "source": [
    "cursor.execute('select avg(age) as \"Age\", native_country as \"Country\" from Adult where age > 40').fetchone()"
   ]
  },
  {
   "cell_type": "markdown",
   "metadata": {},
   "source": [
    "## 5. Write two function queries"
   ]
  },
  {
   "cell_type": "code",
   "execution_count": 63,
   "metadata": {},
   "outputs": [
    {
     "data": {
      "text/plain": [
       "('Never-married', ' Never-married')"
      ]
     },
     "execution_count": 63,
     "metadata": {},
     "output_type": "execute_result"
    }
   ],
   "source": [
    "cursor.execute('select trim(marital_status), marital_status from Adult').fetchone()"
   ]
  },
  {
   "cell_type": "code",
   "execution_count": 64,
   "metadata": {},
   "outputs": [
    {
     "data": {
      "text/plain": [
       "(38.56841101955479, 90)"
      ]
     },
     "execution_count": 64,
     "metadata": {},
     "output_type": "execute_result"
    }
   ],
   "source": [
    "cursor.execute('select avg(age), max(age) from Adult').fetchone()"
   ]
  }
 ],
 "metadata": {
  "kernelspec": {
   "display_name": "Python 3",
   "language": "python",
   "name": "python3"
  },
  "language_info": {
   "codemirror_mode": {
    "name": "ipython",
    "version": 3
   },
   "file_extension": ".py",
   "mimetype": "text/x-python",
   "name": "python",
   "nbconvert_exporter": "python",
   "pygments_lexer": "ipython3",
   "version": "3.7.3"
  }
 },
 "nbformat": 4,
 "nbformat_minor": 2
}
